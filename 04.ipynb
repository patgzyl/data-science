{
  "nbformat": 4,
  "nbformat_minor": 0,
  "metadata": {
    "colab": {
      "name": "Untitled4.ipynb",
      "provenance": [],
      "authorship_tag": "ABX9TyPmC9yseBUXxWYDXLLIuqdC",
      "include_colab_link": true
    },
    "kernelspec": {
      "name": "python3",
      "display_name": "Python 3"
    }
  },
  "cells": [
    {
      "cell_type": "markdown",
      "metadata": {
        "id": "view-in-github",
        "colab_type": "text"
      },
      "source": [
        "<a href=\"https://colab.research.google.com/github/patgzyl/data-science/blob/master/04.ipynb\" target=\"_parent\"><img src=\"https://colab.research.google.com/assets/colab-badge.svg\" alt=\"Open In Colab\"/></a>"
      ]
    },
    {
      "cell_type": "code",
      "metadata": {
        "id": "B0kvanqvOTgN",
        "colab_type": "code",
        "colab": {}
      },
      "source": [
        "import numpy as np\n",
        "import pandas as pd"
      ],
      "execution_count": 0,
      "outputs": []
    },
    {
      "cell_type": "code",
      "metadata": {
        "id": "uTlmcqlSPUev",
        "colab_type": "code",
        "colab": {}
      },
      "source": [
        "df=pd.read_csv('original.csv.xls')"
      ],
      "execution_count": 0,
      "outputs": []
    },
    {
      "cell_type": "code",
      "metadata": {
        "id": "AQvTWLiNPbO0",
        "colab_type": "code",
        "colab": {
          "base_uri": "https://localhost:8080/",
          "height": 235
        },
        "outputId": "2afd67cf-1e1b-4f49-e707-e3c6547fe131"
      },
      "source": [
        "df=df.set_index('timestamp')\n",
        "df.head()"
      ],
      "execution_count": 8,
      "outputs": [
        {
          "output_type": "execute_result",
          "data": {
            "text/html": [
              "<div>\n",
              "<style scoped>\n",
              "    .dataframe tbody tr th:only-of-type {\n",
              "        vertical-align: middle;\n",
              "    }\n",
              "\n",
              "    .dataframe tbody tr th {\n",
              "        vertical-align: top;\n",
              "    }\n",
              "\n",
              "    .dataframe thead th {\n",
              "        text-align: right;\n",
              "    }\n",
              "</style>\n",
              "<table border=\"1\" class=\"dataframe\">\n",
              "  <thead>\n",
              "    <tr style=\"text-align: right;\">\n",
              "      <th></th>\n",
              "      <th>cnt</th>\n",
              "      <th>t1</th>\n",
              "      <th>t2</th>\n",
              "      <th>hum</th>\n",
              "      <th>wind_speed</th>\n",
              "      <th>weather_code</th>\n",
              "      <th>is_holiday</th>\n",
              "      <th>is_weekend</th>\n",
              "      <th>season</th>\n",
              "    </tr>\n",
              "    <tr>\n",
              "      <th>timestamp</th>\n",
              "      <th></th>\n",
              "      <th></th>\n",
              "      <th></th>\n",
              "      <th></th>\n",
              "      <th></th>\n",
              "      <th></th>\n",
              "      <th></th>\n",
              "      <th></th>\n",
              "      <th></th>\n",
              "    </tr>\n",
              "  </thead>\n",
              "  <tbody>\n",
              "    <tr>\n",
              "      <th>2015-01-04 00:00:00</th>\n",
              "      <td>182</td>\n",
              "      <td>3.0</td>\n",
              "      <td>2.0</td>\n",
              "      <td>93.0</td>\n",
              "      <td>6.0</td>\n",
              "      <td>3.0</td>\n",
              "      <td>0.0</td>\n",
              "      <td>1.0</td>\n",
              "      <td>3.0</td>\n",
              "    </tr>\n",
              "    <tr>\n",
              "      <th>2015-01-04 01:00:00</th>\n",
              "      <td>138</td>\n",
              "      <td>3.0</td>\n",
              "      <td>2.5</td>\n",
              "      <td>93.0</td>\n",
              "      <td>5.0</td>\n",
              "      <td>1.0</td>\n",
              "      <td>0.0</td>\n",
              "      <td>1.0</td>\n",
              "      <td>3.0</td>\n",
              "    </tr>\n",
              "    <tr>\n",
              "      <th>2015-01-04 02:00:00</th>\n",
              "      <td>134</td>\n",
              "      <td>2.5</td>\n",
              "      <td>2.5</td>\n",
              "      <td>96.5</td>\n",
              "      <td>0.0</td>\n",
              "      <td>1.0</td>\n",
              "      <td>0.0</td>\n",
              "      <td>1.0</td>\n",
              "      <td>3.0</td>\n",
              "    </tr>\n",
              "    <tr>\n",
              "      <th>2015-01-04 03:00:00</th>\n",
              "      <td>72</td>\n",
              "      <td>2.0</td>\n",
              "      <td>2.0</td>\n",
              "      <td>100.0</td>\n",
              "      <td>0.0</td>\n",
              "      <td>1.0</td>\n",
              "      <td>0.0</td>\n",
              "      <td>1.0</td>\n",
              "      <td>3.0</td>\n",
              "    </tr>\n",
              "    <tr>\n",
              "      <th>2015-01-04 04:00:00</th>\n",
              "      <td>47</td>\n",
              "      <td>2.0</td>\n",
              "      <td>0.0</td>\n",
              "      <td>93.0</td>\n",
              "      <td>6.5</td>\n",
              "      <td>1.0</td>\n",
              "      <td>0.0</td>\n",
              "      <td>1.0</td>\n",
              "      <td>3.0</td>\n",
              "    </tr>\n",
              "  </tbody>\n",
              "</table>\n",
              "</div>"
            ],
            "text/plain": [
              "                     cnt   t1   t2  ...  is_holiday  is_weekend  season\n",
              "timestamp                           ...                                \n",
              "2015-01-04 00:00:00  182  3.0  2.0  ...         0.0         1.0     3.0\n",
              "2015-01-04 01:00:00  138  3.0  2.5  ...         0.0         1.0     3.0\n",
              "2015-01-04 02:00:00  134  2.5  2.5  ...         0.0         1.0     3.0\n",
              "2015-01-04 03:00:00   72  2.0  2.0  ...         0.0         1.0     3.0\n",
              "2015-01-04 04:00:00   47  2.0  0.0  ...         0.0         1.0     3.0\n",
              "\n",
              "[5 rows x 9 columns]"
            ]
          },
          "metadata": {
            "tags": []
          },
          "execution_count": 8
        }
      ]
    },
    {
      "cell_type": "code",
      "metadata": {
        "id": "wmwuVy_yu6yo",
        "colab_type": "code",
        "colab": {
          "base_uri": "https://localhost:8080/",
          "height": 632
        },
        "outputId": "161696fb-24ba-49e5-b7e5-78d4547b3654"
      },
      "source": [
        "url = 'https://storage.googleapis.com/esmartdata-courses-files/ds-bootcamp/appstore_games.csv'\n",
        "df_raw = pd.read_csv(url)\n",
        "df_raw.head()"
      ],
      "execution_count": 3,
      "outputs": [
        {
          "output_type": "execute_result",
          "data": {
            "text/html": [
              "<div>\n",
              "<style scoped>\n",
              "    .dataframe tbody tr th:only-of-type {\n",
              "        vertical-align: middle;\n",
              "    }\n",
              "\n",
              "    .dataframe tbody tr th {\n",
              "        vertical-align: top;\n",
              "    }\n",
              "\n",
              "    .dataframe thead th {\n",
              "        text-align: right;\n",
              "    }\n",
              "</style>\n",
              "<table border=\"1\" class=\"dataframe\">\n",
              "  <thead>\n",
              "    <tr style=\"text-align: right;\">\n",
              "      <th></th>\n",
              "      <th>URL</th>\n",
              "      <th>ID</th>\n",
              "      <th>Name</th>\n",
              "      <th>Subtitle</th>\n",
              "      <th>Icon URL</th>\n",
              "      <th>Average User Rating</th>\n",
              "      <th>User Rating Count</th>\n",
              "      <th>Price</th>\n",
              "      <th>In-app Purchases</th>\n",
              "      <th>Description</th>\n",
              "      <th>Developer</th>\n",
              "      <th>Age Rating</th>\n",
              "      <th>Languages</th>\n",
              "      <th>Size</th>\n",
              "      <th>Primary Genre</th>\n",
              "      <th>Genres</th>\n",
              "      <th>Original Release Date</th>\n",
              "      <th>Current Version Release Date</th>\n",
              "    </tr>\n",
              "  </thead>\n",
              "  <tbody>\n",
              "    <tr>\n",
              "      <th>0</th>\n",
              "      <td>https://apps.apple.com/us/app/sudoku/id284921427</td>\n",
              "      <td>284921427</td>\n",
              "      <td>Sudoku</td>\n",
              "      <td>NaN</td>\n",
              "      <td>https://is2-ssl.mzstatic.com/image/thumb/Purpl...</td>\n",
              "      <td>4.0</td>\n",
              "      <td>3553.0</td>\n",
              "      <td>2.99</td>\n",
              "      <td>NaN</td>\n",
              "      <td>Join over 21,000,000 of our fans and download ...</td>\n",
              "      <td>Mighty Mighty Good Games</td>\n",
              "      <td>4+</td>\n",
              "      <td>DA, NL, EN, FI, FR, DE, IT, JA, KO, NB, PL, PT...</td>\n",
              "      <td>15853568.0</td>\n",
              "      <td>Games</td>\n",
              "      <td>Games, Strategy, Puzzle</td>\n",
              "      <td>11/07/2008</td>\n",
              "      <td>30/05/2017</td>\n",
              "    </tr>\n",
              "    <tr>\n",
              "      <th>1</th>\n",
              "      <td>https://apps.apple.com/us/app/reversi/id284926400</td>\n",
              "      <td>284926400</td>\n",
              "      <td>Reversi</td>\n",
              "      <td>NaN</td>\n",
              "      <td>https://is4-ssl.mzstatic.com/image/thumb/Purpl...</td>\n",
              "      <td>3.5</td>\n",
              "      <td>284.0</td>\n",
              "      <td>1.99</td>\n",
              "      <td>NaN</td>\n",
              "      <td>The classic game of Reversi, also known as Oth...</td>\n",
              "      <td>Kiss The Machine</td>\n",
              "      <td>4+</td>\n",
              "      <td>EN</td>\n",
              "      <td>12328960.0</td>\n",
              "      <td>Games</td>\n",
              "      <td>Games, Strategy, Board</td>\n",
              "      <td>11/07/2008</td>\n",
              "      <td>17/05/2018</td>\n",
              "    </tr>\n",
              "    <tr>\n",
              "      <th>2</th>\n",
              "      <td>https://apps.apple.com/us/app/morocco/id284946595</td>\n",
              "      <td>284946595</td>\n",
              "      <td>Morocco</td>\n",
              "      <td>NaN</td>\n",
              "      <td>https://is5-ssl.mzstatic.com/image/thumb/Purpl...</td>\n",
              "      <td>3.0</td>\n",
              "      <td>8376.0</td>\n",
              "      <td>0.00</td>\n",
              "      <td>NaN</td>\n",
              "      <td>Play the classic strategy game Othello (also k...</td>\n",
              "      <td>Bayou Games</td>\n",
              "      <td>4+</td>\n",
              "      <td>EN</td>\n",
              "      <td>674816.0</td>\n",
              "      <td>Games</td>\n",
              "      <td>Games, Board, Strategy</td>\n",
              "      <td>11/07/2008</td>\n",
              "      <td>5/09/2017</td>\n",
              "    </tr>\n",
              "    <tr>\n",
              "      <th>3</th>\n",
              "      <td>https://apps.apple.com/us/app/sudoku-free/id28...</td>\n",
              "      <td>285755462</td>\n",
              "      <td>Sudoku (Free)</td>\n",
              "      <td>NaN</td>\n",
              "      <td>https://is3-ssl.mzstatic.com/image/thumb/Purpl...</td>\n",
              "      <td>3.5</td>\n",
              "      <td>190394.0</td>\n",
              "      <td>0.00</td>\n",
              "      <td>NaN</td>\n",
              "      <td>Top 100 free app for over a year.\\nRated \"Best...</td>\n",
              "      <td>Mighty Mighty Good Games</td>\n",
              "      <td>4+</td>\n",
              "      <td>DA, NL, EN, FI, FR, DE, IT, JA, KO, NB, PL, PT...</td>\n",
              "      <td>21552128.0</td>\n",
              "      <td>Games</td>\n",
              "      <td>Games, Strategy, Puzzle</td>\n",
              "      <td>23/07/2008</td>\n",
              "      <td>30/05/2017</td>\n",
              "    </tr>\n",
              "    <tr>\n",
              "      <th>4</th>\n",
              "      <td>https://apps.apple.com/us/app/senet-deluxe/id2...</td>\n",
              "      <td>285831220</td>\n",
              "      <td>Senet Deluxe</td>\n",
              "      <td>NaN</td>\n",
              "      <td>https://is1-ssl.mzstatic.com/image/thumb/Purpl...</td>\n",
              "      <td>3.5</td>\n",
              "      <td>28.0</td>\n",
              "      <td>2.99</td>\n",
              "      <td>NaN</td>\n",
              "      <td>\"Senet Deluxe - The Ancient Game of Life and A...</td>\n",
              "      <td>RoGame Software</td>\n",
              "      <td>4+</td>\n",
              "      <td>DA, NL, EN, FR, DE, EL, IT, JA, KO, NO, PT, RU...</td>\n",
              "      <td>34689024.0</td>\n",
              "      <td>Games</td>\n",
              "      <td>Games, Strategy, Board, Education</td>\n",
              "      <td>18/07/2008</td>\n",
              "      <td>22/07/2018</td>\n",
              "    </tr>\n",
              "  </tbody>\n",
              "</table>\n",
              "</div>"
            ],
            "text/plain": [
              "                                                 URL  ...  Current Version Release Date\n",
              "0   https://apps.apple.com/us/app/sudoku/id284921427  ...                    30/05/2017\n",
              "1  https://apps.apple.com/us/app/reversi/id284926400  ...                    17/05/2018\n",
              "2  https://apps.apple.com/us/app/morocco/id284946595  ...                     5/09/2017\n",
              "3  https://apps.apple.com/us/app/sudoku-free/id28...  ...                    30/05/2017\n",
              "4  https://apps.apple.com/us/app/senet-deluxe/id2...  ...                    22/07/2018\n",
              "\n",
              "[5 rows x 18 columns]"
            ]
          },
          "metadata": {
            "tags": []
          },
          "execution_count": 3
        }
      ]
    },
    {
      "cell_type": "code",
      "metadata": {
        "id": "9lOTLwcgwL7e",
        "colab_type": "code",
        "colab": {
          "base_uri": "https://localhost:8080/",
          "height": 102
        },
        "outputId": "65ae50c4-d031-49b0-f8a1-8ab6722333fd"
      },
      "source": [
        "df_raw.columns"
      ],
      "execution_count": 4,
      "outputs": [
        {
          "output_type": "execute_result",
          "data": {
            "text/plain": [
              "Index(['URL', 'ID', 'Name', 'Subtitle', 'Icon URL', 'Average User Rating',\n",
              "       'User Rating Count', 'Price', 'In-app Purchases', 'Description',\n",
              "       'Developer', 'Age Rating', 'Languages', 'Size', 'Primary Genre',\n",
              "       'Genres', 'Original Release Date', 'Current Version Release Date'],\n",
              "      dtype='object')"
            ]
          },
          "metadata": {
            "tags": []
          },
          "execution_count": 4
        }
      ]
    },
    {
      "cell_type": "code",
      "metadata": {
        "id": "5im_NfGnwXal",
        "colab_type": "code",
        "colab": {}
      },
      "source": [
        "df=df_raw.copy()"
      ],
      "execution_count": 0,
      "outputs": []
    },
    {
      "cell_type": "code",
      "metadata": {
        "id": "twcHNKK9wo80",
        "colab_type": "code",
        "colab": {
          "base_uri": "https://localhost:8080/",
          "height": 564
        },
        "outputId": "430961ca-7fcf-4c99-bafc-91386eb28642"
      },
      "source": [
        "df = df.drop(columns=['URL', 'Icon URL', 'Subtitle', 'Description', 'In-app Purchases'])\n",
        "df.head()"
      ],
      "execution_count": 10,
      "outputs": [
        {
          "output_type": "execute_result",
          "data": {
            "text/html": [
              "<div>\n",
              "<style scoped>\n",
              "    .dataframe tbody tr th:only-of-type {\n",
              "        vertical-align: middle;\n",
              "    }\n",
              "\n",
              "    .dataframe tbody tr th {\n",
              "        vertical-align: top;\n",
              "    }\n",
              "\n",
              "    .dataframe thead th {\n",
              "        text-align: right;\n",
              "    }\n",
              "</style>\n",
              "<table border=\"1\" class=\"dataframe\">\n",
              "  <thead>\n",
              "    <tr style=\"text-align: right;\">\n",
              "      <th></th>\n",
              "      <th>ID</th>\n",
              "      <th>Name</th>\n",
              "      <th>Average User Rating</th>\n",
              "      <th>User Rating Count</th>\n",
              "      <th>Price</th>\n",
              "      <th>Developer</th>\n",
              "      <th>Age Rating</th>\n",
              "      <th>Languages</th>\n",
              "      <th>Size</th>\n",
              "      <th>Primary Genre</th>\n",
              "      <th>Genres</th>\n",
              "      <th>Original Release Date</th>\n",
              "      <th>Current Version Release Date</th>\n",
              "    </tr>\n",
              "  </thead>\n",
              "  <tbody>\n",
              "    <tr>\n",
              "      <th>0</th>\n",
              "      <td>284921427</td>\n",
              "      <td>Sudoku</td>\n",
              "      <td>4.0</td>\n",
              "      <td>3553.0</td>\n",
              "      <td>2.99</td>\n",
              "      <td>Mighty Mighty Good Games</td>\n",
              "      <td>4+</td>\n",
              "      <td>DA, NL, EN, FI, FR, DE, IT, JA, KO, NB, PL, PT...</td>\n",
              "      <td>15853568.0</td>\n",
              "      <td>Games</td>\n",
              "      <td>Games, Strategy, Puzzle</td>\n",
              "      <td>11/07/2008</td>\n",
              "      <td>30/05/2017</td>\n",
              "    </tr>\n",
              "    <tr>\n",
              "      <th>1</th>\n",
              "      <td>284926400</td>\n",
              "      <td>Reversi</td>\n",
              "      <td>3.5</td>\n",
              "      <td>284.0</td>\n",
              "      <td>1.99</td>\n",
              "      <td>Kiss The Machine</td>\n",
              "      <td>4+</td>\n",
              "      <td>EN</td>\n",
              "      <td>12328960.0</td>\n",
              "      <td>Games</td>\n",
              "      <td>Games, Strategy, Board</td>\n",
              "      <td>11/07/2008</td>\n",
              "      <td>17/05/2018</td>\n",
              "    </tr>\n",
              "    <tr>\n",
              "      <th>2</th>\n",
              "      <td>284946595</td>\n",
              "      <td>Morocco</td>\n",
              "      <td>3.0</td>\n",
              "      <td>8376.0</td>\n",
              "      <td>0.00</td>\n",
              "      <td>Bayou Games</td>\n",
              "      <td>4+</td>\n",
              "      <td>EN</td>\n",
              "      <td>674816.0</td>\n",
              "      <td>Games</td>\n",
              "      <td>Games, Board, Strategy</td>\n",
              "      <td>11/07/2008</td>\n",
              "      <td>5/09/2017</td>\n",
              "    </tr>\n",
              "    <tr>\n",
              "      <th>3</th>\n",
              "      <td>285755462</td>\n",
              "      <td>Sudoku (Free)</td>\n",
              "      <td>3.5</td>\n",
              "      <td>190394.0</td>\n",
              "      <td>0.00</td>\n",
              "      <td>Mighty Mighty Good Games</td>\n",
              "      <td>4+</td>\n",
              "      <td>DA, NL, EN, FI, FR, DE, IT, JA, KO, NB, PL, PT...</td>\n",
              "      <td>21552128.0</td>\n",
              "      <td>Games</td>\n",
              "      <td>Games, Strategy, Puzzle</td>\n",
              "      <td>23/07/2008</td>\n",
              "      <td>30/05/2017</td>\n",
              "    </tr>\n",
              "    <tr>\n",
              "      <th>4</th>\n",
              "      <td>285831220</td>\n",
              "      <td>Senet Deluxe</td>\n",
              "      <td>3.5</td>\n",
              "      <td>28.0</td>\n",
              "      <td>2.99</td>\n",
              "      <td>RoGame Software</td>\n",
              "      <td>4+</td>\n",
              "      <td>DA, NL, EN, FR, DE, EL, IT, JA, KO, NO, PT, RU...</td>\n",
              "      <td>34689024.0</td>\n",
              "      <td>Games</td>\n",
              "      <td>Games, Strategy, Board, Education</td>\n",
              "      <td>18/07/2008</td>\n",
              "      <td>22/07/2018</td>\n",
              "    </tr>\n",
              "  </tbody>\n",
              "</table>\n",
              "</div>"
            ],
            "text/plain": [
              "          ID           Name  ...  Original Release Date  Current Version Release Date\n",
              "0  284921427         Sudoku  ...             11/07/2008                    30/05/2017\n",
              "1  284926400        Reversi  ...             11/07/2008                    17/05/2018\n",
              "2  284946595        Morocco  ...             11/07/2008                     5/09/2017\n",
              "3  285755462  Sudoku (Free)  ...             23/07/2008                    30/05/2017\n",
              "4  285831220   Senet Deluxe  ...             18/07/2008                    22/07/2018\n",
              "\n",
              "[5 rows x 13 columns]"
            ]
          },
          "metadata": {
            "tags": []
          },
          "execution_count": 10
        }
      ]
    },
    {
      "cell_type": "code",
      "metadata": {
        "id": "SS1Erec30NAJ",
        "colab_type": "code",
        "colab": {}
      },
      "source": [
        "df=df.set_index('ID')"
      ],
      "execution_count": 0,
      "outputs": []
    },
    {
      "cell_type": "code",
      "metadata": {
        "id": "26g8i4uc0Z4n",
        "colab_type": "code",
        "colab": {
          "base_uri": "https://localhost:8080/",
          "height": 297
        },
        "outputId": "4aea9f2c-a106-4ef2-efe1-bd30253b82b3"
      },
      "source": [
        "df.describe()"
      ],
      "execution_count": 12,
      "outputs": [
        {
          "output_type": "execute_result",
          "data": {
            "text/html": [
              "<div>\n",
              "<style scoped>\n",
              "    .dataframe tbody tr th:only-of-type {\n",
              "        vertical-align: middle;\n",
              "    }\n",
              "\n",
              "    .dataframe tbody tr th {\n",
              "        vertical-align: top;\n",
              "    }\n",
              "\n",
              "    .dataframe thead th {\n",
              "        text-align: right;\n",
              "    }\n",
              "</style>\n",
              "<table border=\"1\" class=\"dataframe\">\n",
              "  <thead>\n",
              "    <tr style=\"text-align: right;\">\n",
              "      <th></th>\n",
              "      <th>Average User Rating</th>\n",
              "      <th>User Rating Count</th>\n",
              "      <th>Price</th>\n",
              "      <th>Size</th>\n",
              "    </tr>\n",
              "  </thead>\n",
              "  <tbody>\n",
              "    <tr>\n",
              "      <th>count</th>\n",
              "      <td>7561.000000</td>\n",
              "      <td>7.561000e+03</td>\n",
              "      <td>16983.000000</td>\n",
              "      <td>1.700600e+04</td>\n",
              "    </tr>\n",
              "    <tr>\n",
              "      <th>mean</th>\n",
              "      <td>4.060905</td>\n",
              "      <td>3.306531e+03</td>\n",
              "      <td>0.813419</td>\n",
              "      <td>1.157064e+08</td>\n",
              "    </tr>\n",
              "    <tr>\n",
              "      <th>std</th>\n",
              "      <td>0.751428</td>\n",
              "      <td>4.232256e+04</td>\n",
              "      <td>7.835732</td>\n",
              "      <td>2.036477e+08</td>\n",
              "    </tr>\n",
              "    <tr>\n",
              "      <th>min</th>\n",
              "      <td>1.000000</td>\n",
              "      <td>5.000000e+00</td>\n",
              "      <td>0.000000</td>\n",
              "      <td>5.132800e+04</td>\n",
              "    </tr>\n",
              "    <tr>\n",
              "      <th>25%</th>\n",
              "      <td>3.500000</td>\n",
              "      <td>1.200000e+01</td>\n",
              "      <td>0.000000</td>\n",
              "      <td>2.295014e+07</td>\n",
              "    </tr>\n",
              "    <tr>\n",
              "      <th>50%</th>\n",
              "      <td>4.500000</td>\n",
              "      <td>4.600000e+01</td>\n",
              "      <td>0.000000</td>\n",
              "      <td>5.676895e+07</td>\n",
              "    </tr>\n",
              "    <tr>\n",
              "      <th>75%</th>\n",
              "      <td>4.500000</td>\n",
              "      <td>3.090000e+02</td>\n",
              "      <td>0.000000</td>\n",
              "      <td>1.330271e+08</td>\n",
              "    </tr>\n",
              "    <tr>\n",
              "      <th>max</th>\n",
              "      <td>5.000000</td>\n",
              "      <td>3.032734e+06</td>\n",
              "      <td>179.990000</td>\n",
              "      <td>4.005591e+09</td>\n",
              "    </tr>\n",
              "  </tbody>\n",
              "</table>\n",
              "</div>"
            ],
            "text/plain": [
              "       Average User Rating  User Rating Count         Price          Size\n",
              "count          7561.000000       7.561000e+03  16983.000000  1.700600e+04\n",
              "mean              4.060905       3.306531e+03      0.813419  1.157064e+08\n",
              "std               0.751428       4.232256e+04      7.835732  2.036477e+08\n",
              "min               1.000000       5.000000e+00      0.000000  5.132800e+04\n",
              "25%               3.500000       1.200000e+01      0.000000  2.295014e+07\n",
              "50%               4.500000       4.600000e+01      0.000000  5.676895e+07\n",
              "75%               4.500000       3.090000e+02      0.000000  1.330271e+08\n",
              "max               5.000000       3.032734e+06    179.990000  4.005591e+09"
            ]
          },
          "metadata": {
            "tags": []
          },
          "execution_count": 12
        }
      ]
    },
    {
      "cell_type": "code",
      "metadata": {
        "id": "qVH_iKyU0hyu",
        "colab_type": "code",
        "colab": {
          "base_uri": "https://localhost:8080/",
          "height": 173
        },
        "outputId": "ddd228d9-31e2-4b23-cd46-c8ae6e29c91e"
      },
      "source": [
        "df.describe().T"
      ],
      "execution_count": 13,
      "outputs": [
        {
          "output_type": "execute_result",
          "data": {
            "text/html": [
              "<div>\n",
              "<style scoped>\n",
              "    .dataframe tbody tr th:only-of-type {\n",
              "        vertical-align: middle;\n",
              "    }\n",
              "\n",
              "    .dataframe tbody tr th {\n",
              "        vertical-align: top;\n",
              "    }\n",
              "\n",
              "    .dataframe thead th {\n",
              "        text-align: right;\n",
              "    }\n",
              "</style>\n",
              "<table border=\"1\" class=\"dataframe\">\n",
              "  <thead>\n",
              "    <tr style=\"text-align: right;\">\n",
              "      <th></th>\n",
              "      <th>count</th>\n",
              "      <th>mean</th>\n",
              "      <th>std</th>\n",
              "      <th>min</th>\n",
              "      <th>25%</th>\n",
              "      <th>50%</th>\n",
              "      <th>75%</th>\n",
              "      <th>max</th>\n",
              "    </tr>\n",
              "  </thead>\n",
              "  <tbody>\n",
              "    <tr>\n",
              "      <th>Average User Rating</th>\n",
              "      <td>7561.0</td>\n",
              "      <td>4.060905e+00</td>\n",
              "      <td>7.514275e-01</td>\n",
              "      <td>1.0</td>\n",
              "      <td>3.5</td>\n",
              "      <td>4.5</td>\n",
              "      <td>4.5</td>\n",
              "      <td>5.000000e+00</td>\n",
              "    </tr>\n",
              "    <tr>\n",
              "      <th>User Rating Count</th>\n",
              "      <td>7561.0</td>\n",
              "      <td>3.306531e+03</td>\n",
              "      <td>4.232256e+04</td>\n",
              "      <td>5.0</td>\n",
              "      <td>12.0</td>\n",
              "      <td>46.0</td>\n",
              "      <td>309.0</td>\n",
              "      <td>3.032734e+06</td>\n",
              "    </tr>\n",
              "    <tr>\n",
              "      <th>Price</th>\n",
              "      <td>16983.0</td>\n",
              "      <td>8.134187e-01</td>\n",
              "      <td>7.835732e+00</td>\n",
              "      <td>0.0</td>\n",
              "      <td>0.0</td>\n",
              "      <td>0.0</td>\n",
              "      <td>0.0</td>\n",
              "      <td>1.799900e+02</td>\n",
              "    </tr>\n",
              "    <tr>\n",
              "      <th>Size</th>\n",
              "      <td>17006.0</td>\n",
              "      <td>1.157064e+08</td>\n",
              "      <td>2.036477e+08</td>\n",
              "      <td>51328.0</td>\n",
              "      <td>22950144.0</td>\n",
              "      <td>56768954.0</td>\n",
              "      <td>133027072.0</td>\n",
              "      <td>4.005591e+09</td>\n",
              "    </tr>\n",
              "  </tbody>\n",
              "</table>\n",
              "</div>"
            ],
            "text/plain": [
              "                       count          mean  ...          75%           max\n",
              "Average User Rating   7561.0  4.060905e+00  ...          4.5  5.000000e+00\n",
              "User Rating Count     7561.0  3.306531e+03  ...        309.0  3.032734e+06\n",
              "Price                16983.0  8.134187e-01  ...          0.0  1.799900e+02\n",
              "Size                 17006.0  1.157064e+08  ...  133027072.0  4.005591e+09\n",
              "\n",
              "[4 rows x 8 columns]"
            ]
          },
          "metadata": {
            "tags": []
          },
          "execution_count": 13
        }
      ]
    },
    {
      "cell_type": "code",
      "metadata": {
        "id": "VOHgTStO0l7T",
        "colab_type": "code",
        "colab": {
          "base_uri": "https://localhost:8080/",
          "height": 297
        },
        "outputId": "7f789ff3-3fb1-4ffa-f028-10cab7296558"
      },
      "source": [
        "df.describe(include=['object']).T"
      ],
      "execution_count": 15,
      "outputs": [
        {
          "output_type": "execute_result",
          "data": {
            "text/html": [
              "<div>\n",
              "<style scoped>\n",
              "    .dataframe tbody tr th:only-of-type {\n",
              "        vertical-align: middle;\n",
              "    }\n",
              "\n",
              "    .dataframe tbody tr th {\n",
              "        vertical-align: top;\n",
              "    }\n",
              "\n",
              "    .dataframe thead th {\n",
              "        text-align: right;\n",
              "    }\n",
              "</style>\n",
              "<table border=\"1\" class=\"dataframe\">\n",
              "  <thead>\n",
              "    <tr style=\"text-align: right;\">\n",
              "      <th></th>\n",
              "      <th>count</th>\n",
              "      <th>unique</th>\n",
              "      <th>top</th>\n",
              "      <th>freq</th>\n",
              "    </tr>\n",
              "  </thead>\n",
              "  <tbody>\n",
              "    <tr>\n",
              "      <th>Name</th>\n",
              "      <td>17007</td>\n",
              "      <td>16847</td>\n",
              "      <td>Kingdom Shadows</td>\n",
              "      <td>2</td>\n",
              "    </tr>\n",
              "    <tr>\n",
              "      <th>Developer</th>\n",
              "      <td>17007</td>\n",
              "      <td>8693</td>\n",
              "      <td>Tapps Tecnologia da Informa\\xe7\\xe3o Ltda.</td>\n",
              "      <td>123</td>\n",
              "    </tr>\n",
              "    <tr>\n",
              "      <th>Age Rating</th>\n",
              "      <td>17007</td>\n",
              "      <td>4</td>\n",
              "      <td>4+</td>\n",
              "      <td>11806</td>\n",
              "    </tr>\n",
              "    <tr>\n",
              "      <th>Languages</th>\n",
              "      <td>16947</td>\n",
              "      <td>990</td>\n",
              "      <td>EN</td>\n",
              "      <td>12467</td>\n",
              "    </tr>\n",
              "    <tr>\n",
              "      <th>Primary Genre</th>\n",
              "      <td>17007</td>\n",
              "      <td>21</td>\n",
              "      <td>Games</td>\n",
              "      <td>16286</td>\n",
              "    </tr>\n",
              "    <tr>\n",
              "      <th>Genres</th>\n",
              "      <td>17007</td>\n",
              "      <td>1004</td>\n",
              "      <td>Games, Strategy, Puzzle</td>\n",
              "      <td>778</td>\n",
              "    </tr>\n",
              "    <tr>\n",
              "      <th>Original Release Date</th>\n",
              "      <td>17007</td>\n",
              "      <td>3084</td>\n",
              "      <td>2/09/2016</td>\n",
              "      <td>75</td>\n",
              "    </tr>\n",
              "    <tr>\n",
              "      <th>Current Version Release Date</th>\n",
              "      <td>17007</td>\n",
              "      <td>2512</td>\n",
              "      <td>1/08/2019</td>\n",
              "      <td>118</td>\n",
              "    </tr>\n",
              "  </tbody>\n",
              "</table>\n",
              "</div>"
            ],
            "text/plain": [
              "                              count  ...   freq\n",
              "Name                          17007  ...      2\n",
              "Developer                     17007  ...    123\n",
              "Age Rating                    17007  ...  11806\n",
              "Languages                     16947  ...  12467\n",
              "Primary Genre                 17007  ...  16286\n",
              "Genres                        17007  ...    778\n",
              "Original Release Date         17007  ...     75\n",
              "Current Version Release Date  17007  ...    118\n",
              "\n",
              "[8 rows x 4 columns]"
            ]
          },
          "metadata": {
            "tags": []
          },
          "execution_count": 15
        }
      ]
    },
    {
      "cell_type": "code",
      "metadata": {
        "id": "TY52ET7o1INy",
        "colab_type": "code",
        "colab": {
          "base_uri": "https://localhost:8080/",
          "height": 544
        },
        "outputId": "52bb1f69-a366-4c8e-fa03-b998761d5bb5"
      },
      "source": [
        "df.columns = [col.lower().replace(' ', '_') for col in df.columns]\n",
        "df.head()"
      ],
      "execution_count": 16,
      "outputs": [
        {
          "output_type": "execute_result",
          "data": {
            "text/html": [
              "<div>\n",
              "<style scoped>\n",
              "    .dataframe tbody tr th:only-of-type {\n",
              "        vertical-align: middle;\n",
              "    }\n",
              "\n",
              "    .dataframe tbody tr th {\n",
              "        vertical-align: top;\n",
              "    }\n",
              "\n",
              "    .dataframe thead th {\n",
              "        text-align: right;\n",
              "    }\n",
              "</style>\n",
              "<table border=\"1\" class=\"dataframe\">\n",
              "  <thead>\n",
              "    <tr style=\"text-align: right;\">\n",
              "      <th></th>\n",
              "      <th>name</th>\n",
              "      <th>average_user_rating</th>\n",
              "      <th>user_rating_count</th>\n",
              "      <th>price</th>\n",
              "      <th>developer</th>\n",
              "      <th>age_rating</th>\n",
              "      <th>languages</th>\n",
              "      <th>size</th>\n",
              "      <th>primary_genre</th>\n",
              "      <th>genres</th>\n",
              "      <th>original_release_date</th>\n",
              "      <th>current_version_release_date</th>\n",
              "    </tr>\n",
              "    <tr>\n",
              "      <th>ID</th>\n",
              "      <th></th>\n",
              "      <th></th>\n",
              "      <th></th>\n",
              "      <th></th>\n",
              "      <th></th>\n",
              "      <th></th>\n",
              "      <th></th>\n",
              "      <th></th>\n",
              "      <th></th>\n",
              "      <th></th>\n",
              "      <th></th>\n",
              "      <th></th>\n",
              "    </tr>\n",
              "  </thead>\n",
              "  <tbody>\n",
              "    <tr>\n",
              "      <th>284921427</th>\n",
              "      <td>Sudoku</td>\n",
              "      <td>4.0</td>\n",
              "      <td>3553.0</td>\n",
              "      <td>2.99</td>\n",
              "      <td>Mighty Mighty Good Games</td>\n",
              "      <td>4+</td>\n",
              "      <td>DA, NL, EN, FI, FR, DE, IT, JA, KO, NB, PL, PT...</td>\n",
              "      <td>15853568.0</td>\n",
              "      <td>Games</td>\n",
              "      <td>Games, Strategy, Puzzle</td>\n",
              "      <td>11/07/2008</td>\n",
              "      <td>30/05/2017</td>\n",
              "    </tr>\n",
              "    <tr>\n",
              "      <th>284926400</th>\n",
              "      <td>Reversi</td>\n",
              "      <td>3.5</td>\n",
              "      <td>284.0</td>\n",
              "      <td>1.99</td>\n",
              "      <td>Kiss The Machine</td>\n",
              "      <td>4+</td>\n",
              "      <td>EN</td>\n",
              "      <td>12328960.0</td>\n",
              "      <td>Games</td>\n",
              "      <td>Games, Strategy, Board</td>\n",
              "      <td>11/07/2008</td>\n",
              "      <td>17/05/2018</td>\n",
              "    </tr>\n",
              "    <tr>\n",
              "      <th>284946595</th>\n",
              "      <td>Morocco</td>\n",
              "      <td>3.0</td>\n",
              "      <td>8376.0</td>\n",
              "      <td>0.00</td>\n",
              "      <td>Bayou Games</td>\n",
              "      <td>4+</td>\n",
              "      <td>EN</td>\n",
              "      <td>674816.0</td>\n",
              "      <td>Games</td>\n",
              "      <td>Games, Board, Strategy</td>\n",
              "      <td>11/07/2008</td>\n",
              "      <td>5/09/2017</td>\n",
              "    </tr>\n",
              "    <tr>\n",
              "      <th>285755462</th>\n",
              "      <td>Sudoku (Free)</td>\n",
              "      <td>3.5</td>\n",
              "      <td>190394.0</td>\n",
              "      <td>0.00</td>\n",
              "      <td>Mighty Mighty Good Games</td>\n",
              "      <td>4+</td>\n",
              "      <td>DA, NL, EN, FI, FR, DE, IT, JA, KO, NB, PL, PT...</td>\n",
              "      <td>21552128.0</td>\n",
              "      <td>Games</td>\n",
              "      <td>Games, Strategy, Puzzle</td>\n",
              "      <td>23/07/2008</td>\n",
              "      <td>30/05/2017</td>\n",
              "    </tr>\n",
              "    <tr>\n",
              "      <th>285831220</th>\n",
              "      <td>Senet Deluxe</td>\n",
              "      <td>3.5</td>\n",
              "      <td>28.0</td>\n",
              "      <td>2.99</td>\n",
              "      <td>RoGame Software</td>\n",
              "      <td>4+</td>\n",
              "      <td>DA, NL, EN, FR, DE, EL, IT, JA, KO, NO, PT, RU...</td>\n",
              "      <td>34689024.0</td>\n",
              "      <td>Games</td>\n",
              "      <td>Games, Strategy, Board, Education</td>\n",
              "      <td>18/07/2008</td>\n",
              "      <td>22/07/2018</td>\n",
              "    </tr>\n",
              "  </tbody>\n",
              "</table>\n",
              "</div>"
            ],
            "text/plain": [
              "                    name  ...  current_version_release_date\n",
              "ID                        ...                              \n",
              "284921427         Sudoku  ...                    30/05/2017\n",
              "284926400        Reversi  ...                    17/05/2018\n",
              "284946595        Morocco  ...                     5/09/2017\n",
              "285755462  Sudoku (Free)  ...                    30/05/2017\n",
              "285831220   Senet Deluxe  ...                    22/07/2018\n",
              "\n",
              "[5 rows x 12 columns]"
            ]
          },
          "metadata": {
            "tags": []
          },
          "execution_count": 16
        }
      ]
    },
    {
      "cell_type": "code",
      "metadata": {
        "id": "syj9mmim1oJN",
        "colab_type": "code",
        "colab": {
          "base_uri": "https://localhost:8080/",
          "height": 391
        },
        "outputId": "112362b4-142d-420c-b1b5-644f8e7a47c4"
      },
      "source": [
        "df.primary_genre.value_counts()"
      ],
      "execution_count": 17,
      "outputs": [
        {
          "output_type": "execute_result",
          "data": {
            "text/plain": [
              "Games                16286\n",
              "Education              222\n",
              "Entertainment          198\n",
              "Utilities               77\n",
              "Sports                  60\n",
              "Reference               32\n",
              "Stickers                29\n",
              "Finance                 18\n",
              "Business                16\n",
              "Productivity            15\n",
              "Lifestyle               10\n",
              "Social Networking        9\n",
              "Book                     9\n",
              "News                     7\n",
              "Health & Fitness         5\n",
              "Food & Drink             4\n",
              "Music                    3\n",
              "Navigation               3\n",
              "Medical                  2\n",
              "Shopping                 1\n",
              "Travel                   1\n",
              "Name: primary_genre, dtype: int64"
            ]
          },
          "metadata": {
            "tags": []
          },
          "execution_count": 17
        }
      ]
    },
    {
      "cell_type": "code",
      "metadata": {
        "id": "IGje59qY2eLT",
        "colab_type": "code",
        "colab": {
          "base_uri": "https://localhost:8080/",
          "height": 119
        },
        "outputId": "e2a2330e-63e4-477a-f360-0d62b1fe4285"
      },
      "source": [
        "df.primary_genre.value_counts().nlargest(5)"
      ],
      "execution_count": 18,
      "outputs": [
        {
          "output_type": "execute_result",
          "data": {
            "text/plain": [
              "Games            16286\n",
              "Education          222\n",
              "Entertainment      198\n",
              "Utilities           77\n",
              "Sports              60\n",
              "Name: primary_genre, dtype: int64"
            ]
          },
          "metadata": {
            "tags": []
          },
          "execution_count": 18
        }
      ]
    },
    {
      "cell_type": "code",
      "metadata": {
        "id": "vzGkdvGP2uw3",
        "colab_type": "code",
        "colab": {
          "base_uri": "https://localhost:8080/",
          "height": 34
        },
        "outputId": "63178af2-ee23-4ad9-b361-adbb00821e4b"
      },
      "source": [
        "df.primary_genre.value_counts().nlargest(5).index"
      ],
      "execution_count": 19,
      "outputs": [
        {
          "output_type": "execute_result",
          "data": {
            "text/plain": [
              "Index(['Games', 'Education', 'Entertainment', 'Utilities', 'Sports'], dtype='object')"
            ]
          },
          "metadata": {
            "tags": []
          },
          "execution_count": 19
        }
      ]
    },
    {
      "cell_type": "code",
      "metadata": {
        "id": "l3EAXwX33BVW",
        "colab_type": "code",
        "colab": {
          "base_uri": "https://localhost:8080/",
          "height": 102
        },
        "outputId": "ac8fee9c-c04d-44d0-f7ae-3d275da383de"
      },
      "source": [
        "df.age_rating.value_counts()"
      ],
      "execution_count": 20,
      "outputs": [
        {
          "output_type": "execute_result",
          "data": {
            "text/plain": [
              "4+     11806\n",
              "9+      2481\n",
              "12+     2055\n",
              "17+      665\n",
              "Name: age_rating, dtype: int64"
            ]
          },
          "metadata": {
            "tags": []
          },
          "execution_count": 20
        }
      ]
    },
    {
      "cell_type": "code",
      "metadata": {
        "id": "eHg4mrIh3WFB",
        "colab_type": "code",
        "colab": {
          "base_uri": "https://localhost:8080/",
          "height": 298
        },
        "outputId": "6e2dceb5-4d39-4173-e632-eb38b6dc660e"
      },
      "source": [
        "import seaborn as sns\n",
        "sns.set()\n",
        "df.age_rating.value_counts().plot(kind='bar')"
      ],
      "execution_count": 22,
      "outputs": [
        {
          "output_type": "execute_result",
          "data": {
            "text/plain": [
              "<matplotlib.axes._subplots.AxesSubplot at 0x7f8395e64ba8>"
            ]
          },
          "metadata": {
            "tags": []
          },
          "execution_count": 22
        },
        {
          "output_type": "display_data",
          "data": {
            "image/png": "[encoded data removed]",
            "text/plain": [
              "<Figure size 432x288 with 1 Axes>"
            ]
          },
          "metadata": {
            "tags": []
          }
        }
      ]
    },
    {
      "cell_type": "code",
      "metadata": {
        "id": "rBhdZL7S3qfd",
        "colab_type": "code",
        "colab": {
          "base_uri": "https://localhost:8080/",
          "height": 248
        },
        "outputId": "bdf8013c-e0a2-4957-b46d-ead09a028c0d"
      },
      "source": [
        "_ =df.age_rating.value_counts().plot(kind='pie')"
      ],
      "execution_count": 24,
      "outputs": [
        {
          "output_type": "display_data",
          "data": {
            "image/png": "[encoded data removed]",
            "text/plain": [
              "<Figure size 432x288 with 1 Axes>"
            ]
          },
          "metadata": {
            "tags": []
          }
        }
      ]
    },
    {
      "cell_type": "code",
      "metadata": {
        "id": "Cys_dARF4-Ue",
        "colab_type": "code",
        "colab": {
          "base_uri": "https://localhost:8080/",
          "height": 238
        },
        "outputId": "2604f8e4-c4cf-4a68-9bb8-502a391aa479"
      },
      "source": [
        "df.languages.str.split(', ')"
      ],
      "execution_count": 26,
      "outputs": [
        {
          "output_type": "execute_result",
          "data": {
            "text/plain": [
              "ID\n",
              "284921427     [DA, NL, EN, FI, FR, DE, IT, JA, KO, NB, PL, P...\n",
              "284926400                                                  [EN]\n",
              "284946595                                                  [EN]\n",
              "285755462     [DA, NL, EN, FI, FR, DE, IT, JA, KO, NB, PL, P...\n",
              "285831220     [DA, NL, EN, FR, DE, EL, IT, JA, KO, NO, PT, R...\n",
              "                                    ...                        \n",
              "1474626442                                                 [EN]\n",
              "1474919257                                                 [EN]\n",
              "1474962324                                                 [EN]\n",
              "1474963671                                                 [EN]\n",
              "1475076711                                             [EN, ZH]\n",
              "Name: languages, Length: 17007, dtype: object"
            ]
          },
          "metadata": {
            "tags": []
          },
          "execution_count": 26
        }
      ]
    },
    {
      "cell_type": "code",
      "metadata": {
        "id": "r19QNU2f5T8L",
        "colab_type": "code",
        "colab": {
          "base_uri": "https://localhost:8080/",
          "height": 238
        },
        "outputId": "667bba54-247f-4852-fc90-75ae6aa05833"
      },
      "source": [
        "df.languages.str.split(', ').str.len()"
      ],
      "execution_count": 27,
      "outputs": [
        {
          "output_type": "execute_result",
          "data": {
            "text/plain": [
              "ID\n",
              "284921427     17.0\n",
              "284926400      1.0\n",
              "284946595      1.0\n",
              "285755462     17.0\n",
              "285831220     15.0\n",
              "              ... \n",
              "1474626442     1.0\n",
              "1474919257     1.0\n",
              "1474962324     1.0\n",
              "1474963671     1.0\n",
              "1475076711     2.0\n",
              "Name: languages, Length: 17007, dtype: float64"
            ]
          },
          "metadata": {
            "tags": []
          },
          "execution_count": 27
        }
      ]
    },
    {
      "cell_type": "code",
      "metadata": {
        "id": "_rU_xqYu6Y9J",
        "colab_type": "code",
        "colab": {
          "base_uri": "https://localhost:8080/",
          "height": 238
        },
        "outputId": "15b32531-dba9-49eb-f739-4b59849eddef"
      },
      "source": [
        "df.isnull().sum()"
      ],
      "execution_count": 28,
      "outputs": [
        {
          "output_type": "execute_result",
          "data": {
            "text/plain": [
              "name                               0\n",
              "average_user_rating             9446\n",
              "user_rating_count               9446\n",
              "price                             24\n",
              "developer                          0\n",
              "age_rating                         0\n",
              "languages                         60\n",
              "size                               1\n",
              "primary_genre                      0\n",
              "genres                             0\n",
              "original_release_date              0\n",
              "current_version_release_date       0\n",
              "dtype: int64"
            ]
          },
          "metadata": {
            "tags": []
          },
          "execution_count": 28
        }
      ]
    },
    {
      "cell_type": "code",
      "metadata": {
        "id": "yzpHQkJs6n-I",
        "colab_type": "code",
        "colab": {
          "base_uri": "https://localhost:8080/",
          "height": 238
        },
        "outputId": "3884787a-54b6-4256-e435-dece68454a8d"
      },
      "source": [
        "df=df.dropna()\n",
        "df.isnull().sum()\n"
      ],
      "execution_count": 29,
      "outputs": [
        {
          "output_type": "execute_result",
          "data": {
            "text/plain": [
              "name                            0\n",
              "average_user_rating             0\n",
              "user_rating_count               0\n",
              "price                           0\n",
              "developer                       0\n",
              "age_rating                      0\n",
              "languages                       0\n",
              "size                            0\n",
              "primary_genre                   0\n",
              "genres                          0\n",
              "original_release_date           0\n",
              "current_version_release_date    0\n",
              "dtype: int64"
            ]
          },
          "metadata": {
            "tags": []
          },
          "execution_count": 29
        }
      ]
    }
  ]
}